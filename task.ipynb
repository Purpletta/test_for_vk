{
 "cells": [
  {
   "cell_type": "code",
   "execution_count": 2,
   "id": "f62b30c2",
   "metadata": {},
   "outputs": [],
   "source": [
    "import pandas as pd\n",
    "import numpy as np"
   ]
  },
  {
   "cell_type": "code",
   "execution_count": 10,
   "id": "7ecc2218",
   "metadata": {},
   "outputs": [],
   "source": [
    "test = pd.read_csv(\"test_df.csv\")\n",
    "train = pd.read_csv(\"train_df.csv\")"
   ]
  },
  {
   "cell_type": "code",
   "execution_count": 21,
   "id": "98094d27",
   "metadata": {},
   "outputs": [
    {
     "name": "stdout",
     "output_type": "stream",
     "text": [
      "NDCG Score on Validation Dataset: 0.5230449814821869\n",
      "NDCG Score on Test Dataset: 0.46960384862220683\n"
     ]
    }
   ],
   "source": [
    "from sklearn.model_selection import train_test_split\n",
    "\n",
    "# Определение признаков и целевой переменной\n",
    "features = train.drop(['search_id', 'target'], axis=1)\n",
    "target = train['target']\n",
    "\n",
    "# Разделение на обучающий и валидационный датасеты\n",
    "X_train, X_val, y_train, y_val = train_test_split(features, target, test_size=0.3, random_state=42)\n",
    "\n",
    "# Обучение модели случайного леса\n",
    "model = RandomForestRegressor()\n",
    "model.fit(X_train, y_train)\n",
    "\n",
    "# Прогнозирование на валидационном датасете\n",
    "predictions = model.predict(X_val)\n",
    "\n",
    "# Вычисление NDCG\n",
    "ndcg = ndcg_score([y_val], [predictions])\n",
    "print(\"NDCG Score on Validation Dataset:\", ndcg)\n",
    "\n",
    "# Применение модели к тестовому датасету\n",
    "test_features = test.drop(['search_id', 'target'], axis=1)\n",
    "test_target = test['target']\n",
    "test_predictions = model.predict(test_features)\n",
    "\n",
    "# Вычисление NDCG на тестовом датасете\n",
    "test_ndcg = ndcg_score([test_target], [test_predictions])\n",
    "print(\"NDCG Score on Test Dataset:\", test_ndcg)\n"
   ]
  }
 ],
 "metadata": {
  "kernelspec": {
   "display_name": "Python 3 (ipykernel)",
   "language": "python",
   "name": "python3"
  },
  "language_info": {
   "codemirror_mode": {
    "name": "ipython",
    "version": 3
   },
   "file_extension": ".py",
   "mimetype": "text/x-python",
   "name": "python",
   "nbconvert_exporter": "python",
   "pygments_lexer": "ipython3",
   "version": "3.10.8"
  }
 },
 "nbformat": 4,
 "nbformat_minor": 5
}
